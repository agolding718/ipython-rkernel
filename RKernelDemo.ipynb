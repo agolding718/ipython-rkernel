{
 "metadata": {
  "name": "",
  "signature": "sha256:9a98aacffc1d6ee7ee25b86bfed830ac8f4a60c5c66c803590ace6b2335f4a0c"
 },
 "nbformat": 3,
 "nbformat_minor": 0,
 "worksheets": [
  {
   "cells": [
    {
     "cell_type": "heading",
     "level": 1,
     "metadata": {},
     "source": [
      "A \"Native\" R kernel for IPython"
     ]
    },
    {
     "cell_type": "markdown",
     "metadata": {},
     "source": [
      "This is a quick hack that simply prepends `%%R` to every cell and requires using the IPython R magic.\n",
      "\n",
      "To make this work, run:\n",
      "\n",
      "    ipython profile create rkernel\n",
      "    \n",
      "Then put the accompanying `rkernel.py` file in the `startup/` directory of the above profile directory, and run IPython with\n",
      "\n",
      "    ipython <app> --profile rkernel\n",
      "    \n",
      "where `<app>` can be `notebook`, `qtconsole`, or nothing for the terminal client.\n",
      "\n",
      "Written in 20 minutes by F. Perez, Ariel Rokem and Haoxing Zhang @ Stanford, Feb 19 2014."
     ]
    },
    {
     "cell_type": "markdown",
     "metadata": {},
     "source": [
      "Simple variable assignment:"
     ]
    },
    {
     "cell_type": "code",
     "collapsed": false,
     "input": [
      "a <- 1\n",
      "a"
     ],
     "language": "python",
     "metadata": {},
     "outputs": [
      {
       "metadata": {},
       "output_type": "display_data",
       "text": [
        "[1] 1\n"
       ]
      }
     ],
     "prompt_number": 1
    },
    {
     "cell_type": "markdown",
     "metadata": {},
     "source": [
      "Simple plots"
     ]
    },
    {
     "cell_type": "code",
     "collapsed": false,
     "input": [
      "X <- c(1,2,3)\n",
      "Y <- c(4.5,5.7,8.1)\n",
      "plot(X,Y)\n",
      "print(summary(lm(Y~X)))"
     ],
     "language": "python",
     "metadata": {},
     "outputs": [
      {
       "metadata": {},
       "output_type": "display_data",
       "text": [
        "\n",
        "Call:\n",
        "lm(formula = Y ~ X)\n",
        "\n",
        "Residuals:\n",
        "   1    2    3 \n",
        " 0.2 -0.4  0.2 \n",
        "\n",
        "Coefficients:\n",
        "            Estimate Std. Error t value Pr(>|t|)\n",
        "(Intercept)   2.5000     0.7483   3.341    0.185\n",
        "X             1.8000     0.3464   5.196    0.121\n",
        "\n",
        "Residual standard error: 0.4899 on 1 degrees of freedom\n",
        "Multiple R-squared:  0.9643,\tAdjusted R-squared:  0.9286 \n",
        "F-statistic:    27 on 1 and 1 DF,  p-value: 0.121\n",
        "\n"
       ]
      },
      {
       "metadata": {},
       "output_type": "display_data",
       "png": "[encoded data removed]"
      }
     ],
     "prompt_number": 2
    },
    {
     "cell_type": "code",
     "collapsed": false,
     "input": [],
     "language": "python",
     "metadata": {},
     "outputs": []
    }
   ],
   "metadata": {}
  }
 ]
}